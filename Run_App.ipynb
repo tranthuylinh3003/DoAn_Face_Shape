{
  "nbformat": 4,
  "nbformat_minor": 0,
  "metadata": {
    "colab": {
      "name": "Run_App.ipynb",
      "provenance": []
    },
    "kernelspec": {
      "name": "python3",
      "display_name": "Python 3"
    },
    "language_info": {
      "name": "python"
    }
  },
  "cells": [
    {
      "cell_type": "markdown",
      "metadata": {
        "id": "9JmrvQg_ihOj"
      },
      "source": [
        "## **1. Lấy code về từ github:**"
      ]
    },
    {
      "cell_type": "code",
      "metadata": {
        "colab": {
          "base_uri": "https://localhost:8080/"
        },
        "id": "BTj84I0yS89P",
        "outputId": "6492d395-8008-43f4-b300-c4ab6e130842"
      },
      "source": [
        "!git clone https://github.com/tranthuylinh3003/DoAn_Face_Shape.git"
      ],
      "execution_count": 2,
      "outputs": [
        {
          "output_type": "stream",
          "text": [
            "fatal: destination path 'DoAn_Face_Shape' already exists and is not an empty directory.\n"
          ],
          "name": "stdout"
        }
      ]
    },
    {
      "cell_type": "markdown",
      "metadata": {
        "id": "B-1yT0e9ipnL"
      },
      "source": [
        "## **2. Đi đến thư mục chứa code:**"
      ]
    },
    {
      "cell_type": "code",
      "metadata": {
        "colab": {
          "base_uri": "https://localhost:8080/"
        },
        "id": "nKsV7xYMTGh4",
        "outputId": "19f5c97b-0d2b-4e16-fc01-0f2e6335a095"
      },
      "source": [
        "%cd './DoAn_Face_Shape'"
      ],
      "execution_count": 3,
      "outputs": [
        {
          "output_type": "stream",
          "text": [
            "/content/DoAn_Face_Shape\n"
          ],
          "name": "stdout"
        }
      ]
    },
    {
      "cell_type": "markdown",
      "metadata": {
        "id": "TsdpAqy2jFVF"
      },
      "source": [
        "## **3. Cài đặt các thư viện cần thiết:**"
      ]
    },
    {
      "cell_type": "code",
      "metadata": {
        "id": "c2CS53kYjMgd"
      },
      "source": [
        "!pip install -r requirements.txt"
      ],
      "execution_count": null,
      "outputs": []
    },
    {
      "cell_type": "markdown",
      "metadata": {
        "id": "mRy1qK4LixVF"
      },
      "source": [
        "## **4. Run code:**"
      ]
    },
    {
      "cell_type": "markdown",
      "metadata": {
        "id": "pg-JwYZai4NH"
      },
      "source": [
        "+ Trong khi run sẽ xuất hiện:\n",
        "> Running on http://xxxxxxx.ngrok.io\n",
        ">\n",
        "+ Nhấp vào link để vào trang web.\n",
        "\n",
        "+ Ngưng chạy thì bấm tổ hợp phím 'Ctrl + M + I'\n",
        "\n",
        "\n",
        "\n"
      ]
    },
    {
      "cell_type": "code",
      "metadata": {
        "colab": {
          "base_uri": "https://localhost:8080/"
        },
        "id": "zhta55_KTn25",
        "outputId": "323e5968-839f-4d5e-99f0-b886a7345460"
      },
      "source": [
        "!python3 svr_model.py"
      ],
      "execution_count": 4,
      "outputs": [
        {
          "output_type": "stream",
          "text": [
            "2021-05-28 10:33:26.698068: I tensorflow/stream_executor/platform/default/dso_loader.cc:53] Successfully opened dynamic library libcudart.so.11.0\n",
            "2021-05-28 10:33:28.691786: I tensorflow/stream_executor/platform/default/dso_loader.cc:53] Successfully opened dynamic library libcuda.so.1\n",
            "2021-05-28 10:33:28.703195: E tensorflow/stream_executor/cuda/cuda_driver.cc:328] failed call to cuInit: CUDA_ERROR_NO_DEVICE: no CUDA-capable device is detected\n",
            "2021-05-28 10:33:28.703250: I tensorflow/stream_executor/cuda/cuda_diagnostics.cc:156] kernel driver does not appear to be running on this host (1fa8048e8f6e): /proc/driver/nvidia/version does not exist\n",
            " * Serving Flask app \"svr_model\" (lazy loading)\n",
            " * Environment: production\n",
            "\u001b[31m   WARNING: This is a development server. Do not use it in a production deployment.\u001b[0m\n",
            "\u001b[2m   Use a production WSGI server instead.\u001b[0m\n",
            " * Debug mode: off\n",
            " * Running on http://127.0.0.1:5000/ (Press CTRL+C to quit)\n",
            " * Running on http://a2fe9bb7336a.ngrok.io\n",
            " * Traffic stats available on http://127.0.0.1:4040\n",
            "127.0.0.1 - - [28/May/2021 10:33:34] \"\u001b[37mGET / HTTP/1.1\u001b[0m\" 200 -\n",
            "127.0.0.1 - - [28/May/2021 10:33:35] \"\u001b[37mGET /static/tet_back.png HTTP/1.1\u001b[0m\" 200 -\n",
            "127.0.0.1 - - [28/May/2021 10:33:35] \"\u001b[33mGET /favicon.ico HTTP/1.1\u001b[0m\" 404 -\n",
            "18520072.27-04-2020.jpg\n",
            "static\n",
            "Save =  static/18520072.27-04-2020.jpg\n",
            "2021-05-28 10:33:43.891058: I tensorflow/compiler/mlir/mlir_graph_optimization_pass.cc:176] None of the MLIR Optimization Passes are enabled (registered 2)\n",
            "2021-05-28 10:33:43.891521: I tensorflow/core/platform/profile_utils/cpu_utils.cc:114] CPU Frequency: 2299995000 Hz\n",
            "O (68, 2)\n",
            "R (136,)\n",
            "['square']\n",
            "127.0.0.1 - - [28/May/2021 10:33:53] \"\u001b[37mPOST / HTTP/1.1\u001b[0m\" 200 -\n",
            "127.0.0.1 - - [28/May/2021 10:33:53] \"\u001b[37mGET /static/18520072.27-04-2020.jpg?0.7435334058088057 HTTP/1.1\u001b[0m\" 200 -\n",
            "Error in atexit._run_exitfuncs:\n",
            "Traceback (most recent call last):\n",
            "  File \"/usr/local/lib/python3.7/dist-packages/tensorflow/python/autograph/pyct/loader.py\", line 39, in _remove_file\n",
            "    os.remove(file_name)\n",
            "KeyboardInterrupt\n"
          ],
          "name": "stdout"
        }
      ]
    }
  ]
}